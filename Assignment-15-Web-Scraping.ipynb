{
 "cells": [
  {
   "cell_type": "code",
   "execution_count": null,
   "id": "cc32723a",
   "metadata": {},
   "outputs": [],
   "source": [
    "#Q1. What is Web Scraping? Why is it Used? Give three areas where Web Scraping is used to get data.\n",
    "\n",
    "#A. Web scraping is the process of collecting structured web data in an automated manner. \n",
    "\n",
    "#.  It's also widely known as web data extraction or web data scraping. \n",
    "\n",
    "#. Some of the main use cases of web scraping include price monitoring, price intelligence, news monitoring, lead generation, and market research among many others.\n"
   ]
  },
  {
   "cell_type": "code",
   "execution_count": null,
   "id": "5df176ad",
   "metadata": {},
   "outputs": [],
   "source": [
    "#Q2. What are the different methods used for Web Scraping?\n",
    "\n",
    "#A. The various methods used for Web Scraping are \n",
    "\n",
    "# HTML Parsing\n",
    "# DOM Parsing\n",
    "# Vertical Aggregation\n",
    "# XPath\n",
    "# Google Sheets\n"
   ]
  },
  {
   "cell_type": "code",
   "execution_count": null,
   "id": "ca3376ad",
   "metadata": {},
   "outputs": [],
   "source": [
    "#Q3. What is Beautiful Soup? Why is it used?\n",
    "\n",
    "#A. Beautiful Soup is a Python package for parsing HTML and XML documents (including having malformed markup, i.e. non-closed tags, so named after tag soup).\n",
    "\n",
    "#.  It creates a parse tree for parsed pages that can be used to extract data from HTML, which is useful for web scraping.\n"
   ]
  },
  {
   "cell_type": "code",
   "execution_count": null,
   "id": "04cc86d1",
   "metadata": {},
   "outputs": [],
   "source": [
    "#Q4. Why is flask used in this Web Scraping project?\n",
    "\n",
    "#A. Flask is a lightweight framework to build websites. \n",
    "#.  We’ll use this to parse our collected data and display it as HTML in a new HTML file.\n",
    "#.  The requests module allows us to send http requests to the website we want to scrape.\n"
   ]
  },
  {
   "cell_type": "code",
   "execution_count": null,
   "id": "59652037",
   "metadata": {},
   "outputs": [],
   "source": [
    "#Q5. Write the names of AWS services used in this project. Also, explain the use of each service.\n",
    "\n",
    "#A. The AWS Services used in this project are EC2, DynamoDB, Lambda, S3\n",
    "\n",
    "# EC2: Amazon Elastic Compute Cloud (Amazon EC2) is a web service that provides secure, resizable compute capacity in the cloud. \n",
    "#.     It is designed to make web-scale cloud computing easier for developers.\n",
    "\n",
    "# DynamoDB: Amazon DynamoDB is a fully managed, serverless, key-value NoSQL database designed to run high-performance applications at any scale.\n",
    "\n",
    "# Lambda: AWS Lambda is a serverless compute service that runs your code in response to events and automatically manages the underlying compute resources for you.\n",
    "\n",
    "# S3: Amazon Simple Storage Service (Amazon S3) is an object storage service that offers industry-leading scalability, data availability, security, and performance. \n",
    "\n"
   ]
  },
  {
   "cell_type": "code",
   "execution_count": null,
   "id": "46e7ea1b",
   "metadata": {},
   "outputs": [],
   "source": []
  }
 ],
 "metadata": {
  "kernelspec": {
   "display_name": "Python 3 (ipykernel)",
   "language": "python",
   "name": "python3"
  },
  "language_info": {
   "codemirror_mode": {
    "name": "ipython",
    "version": 3
   },
   "file_extension": ".py",
   "mimetype": "text/x-python",
   "name": "python",
   "nbconvert_exporter": "python",
   "pygments_lexer": "ipython3",
   "version": "3.10.9"
  }
 },
 "nbformat": 4,
 "nbformat_minor": 5
}
